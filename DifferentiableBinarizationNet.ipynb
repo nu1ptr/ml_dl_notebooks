{
 "cells": [
  {
   "cell_type": "markdown",
   "id": "12d5a2f4-099e-4c7a-babb-d19eb48b47c5",
   "metadata": {},
   "source": [
    "**[Implementation of Real-time Scene Text Detection with Differentiable Binarization](https://arxiv.org/pdf/1911.08947.pdf) with [FPGM Pruning](https://arxiv.org/pdf/1811.00250.pdf)**\n",
    "\n",
    "**Tangentially Related Papers Worth Reading:** [DeformableConvNets](https://arxiv.org/pdf/1703.06211v3.pdf), [Deformable ConvNets v2](https://arxiv.org/pdf/1811.11168.pdf)"
   ]
  },
  {
   "cell_type": "code",
   "execution_count": 4,
   "id": "ea96ceb2-10f5-42f8-9e36-b195849f925a",
   "metadata": {},
   "outputs": [],
   "source": [
    "import torch\n",
    "import matplotlib.pyplot as plt\n",
    "import numpy as np\n",
    "\n",
    "# Environment Path Constants you can change\n",
    "DATASET_PATH = './datasets/'\n",
    "CHECKPOINT_PATH = './checkpoints/DBNet/'\n",
    "OUTPUT_PATH = './outputs/DBNet'"
   ]
  },
  {
   "cell_type": "markdown",
   "id": "55d28870-744c-47cb-8ac2-2b506fda6fae",
   "metadata": {},
   "source": [
    "## Model Definition\n",
    "![Figure 3 from Paper](./images/dbnet_arch.png)"
   ]
  },
  {
   "cell_type": "code",
   "execution_count": 1,
   "id": "dd305d5e-ea0b-418b-b3e7-c1131efc5f0a",
   "metadata": {},
   "outputs": [],
   "source": [
    "## Training"
   ]
  }
 ],
 "metadata": {
  "kernelspec": {
   "display_name": "Python 3 (ipykernel)",
   "language": "python",
   "name": "python3"
  },
  "language_info": {
   "codemirror_mode": {
    "name": "ipython",
    "version": 3
   },
   "file_extension": ".py",
   "mimetype": "text/x-python",
   "name": "python",
   "nbconvert_exporter": "python",
   "pygments_lexer": "ipython3",
   "version": "3.9.5"
  }
 },
 "nbformat": 4,
 "nbformat_minor": 5
}
